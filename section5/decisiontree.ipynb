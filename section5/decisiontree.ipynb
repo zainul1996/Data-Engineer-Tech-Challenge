{
  "cells": [
    {
      "cell_type": "code",
      "execution_count": null,
      "metadata": {
        "id": "TclIAIC9RGpE"
      },
      "outputs": [],
      "source": [
        "import pandas as pd\n",
        "import numpy as np\n",
        "import matplotlib.pyplot as plt\n",
        "from sklearn.metrics import confusion_matrix\n",
        "from sklearn.tree import DecisionTreeClassifier\n",
        "from sklearn.model_selection import train_test_split\n",
        "from mlxtend.plotting import plot_confusion_matrix\n",
        "from sklearn import metrics\n",
        "from sklearn.preprocessing import OrdinalEncoder\n",
        "from sklearn.model_selection import StratifiedShuffleSplit"
      ]
    },
    {
      "cell_type": "code",
      "execution_count": 159,
      "metadata": {
        "colab": {
          "base_uri": "https://localhost:8080/",
          "height": 204
        },
        "id": "AjoNRcAwRprX",
        "outputId": "ab7dca7f-1e6b-4b06-b0b1-49c67ac15ab1"
      },
      "outputs": [
        {
          "data": {
            "text/html": [
              "\n",
              "  <div id=\"df-6eeb0931-04a3-4e17-8ebf-68a895793306\">\n",
              "    <div class=\"colab-df-container\">\n",
              "      <div>\n",
              "<style scoped>\n",
              "    .dataframe tbody tr th:only-of-type {\n",
              "        vertical-align: middle;\n",
              "    }\n",
              "\n",
              "    .dataframe tbody tr th {\n",
              "        vertical-align: top;\n",
              "    }\n",
              "\n",
              "    .dataframe thead th {\n",
              "        text-align: right;\n",
              "    }\n",
              "</style>\n",
              "<table border=\"1\" class=\"dataframe\">\n",
              "  <thead>\n",
              "    <tr style=\"text-align: right;\">\n",
              "      <th></th>\n",
              "      <th>buying</th>\n",
              "      <th>maint</th>\n",
              "      <th>doors</th>\n",
              "      <th>persons</th>\n",
              "      <th>lug_boot</th>\n",
              "      <th>safety</th>\n",
              "      <th>class</th>\n",
              "    </tr>\n",
              "  </thead>\n",
              "  <tbody>\n",
              "    <tr>\n",
              "      <th>0</th>\n",
              "      <td>vhigh</td>\n",
              "      <td>vhigh</td>\n",
              "      <td>2</td>\n",
              "      <td>2</td>\n",
              "      <td>small</td>\n",
              "      <td>low</td>\n",
              "      <td>unacc</td>\n",
              "    </tr>\n",
              "    <tr>\n",
              "      <th>1</th>\n",
              "      <td>vhigh</td>\n",
              "      <td>vhigh</td>\n",
              "      <td>2</td>\n",
              "      <td>2</td>\n",
              "      <td>small</td>\n",
              "      <td>med</td>\n",
              "      <td>unacc</td>\n",
              "    </tr>\n",
              "    <tr>\n",
              "      <th>2</th>\n",
              "      <td>vhigh</td>\n",
              "      <td>vhigh</td>\n",
              "      <td>2</td>\n",
              "      <td>2</td>\n",
              "      <td>small</td>\n",
              "      <td>high</td>\n",
              "      <td>unacc</td>\n",
              "    </tr>\n",
              "    <tr>\n",
              "      <th>3</th>\n",
              "      <td>vhigh</td>\n",
              "      <td>vhigh</td>\n",
              "      <td>2</td>\n",
              "      <td>2</td>\n",
              "      <td>med</td>\n",
              "      <td>low</td>\n",
              "      <td>unacc</td>\n",
              "    </tr>\n",
              "    <tr>\n",
              "      <th>4</th>\n",
              "      <td>vhigh</td>\n",
              "      <td>vhigh</td>\n",
              "      <td>2</td>\n",
              "      <td>2</td>\n",
              "      <td>med</td>\n",
              "      <td>med</td>\n",
              "      <td>unacc</td>\n",
              "    </tr>\n",
              "  </tbody>\n",
              "</table>\n",
              "</div>\n",
              "      <button class=\"colab-df-convert\" onclick=\"convertToInteractive('df-6eeb0931-04a3-4e17-8ebf-68a895793306')\"\n",
              "              title=\"Convert this dataframe to an interactive table.\"\n",
              "              style=\"display:none;\">\n",
              "        \n",
              "  <svg xmlns=\"http://www.w3.org/2000/svg\" height=\"24px\"viewBox=\"0 0 24 24\"\n",
              "       width=\"24px\">\n",
              "    <path d=\"M0 0h24v24H0V0z\" fill=\"none\"/>\n",
              "    <path d=\"M18.56 5.44l.94 2.06.94-2.06 2.06-.94-2.06-.94-.94-2.06-.94 2.06-2.06.94zm-11 1L8.5 8.5l.94-2.06 2.06-.94-2.06-.94L8.5 2.5l-.94 2.06-2.06.94zm10 10l.94 2.06.94-2.06 2.06-.94-2.06-.94-.94-2.06-.94 2.06-2.06.94z\"/><path d=\"M17.41 7.96l-1.37-1.37c-.4-.4-.92-.59-1.43-.59-.52 0-1.04.2-1.43.59L10.3 9.45l-7.72 7.72c-.78.78-.78 2.05 0 2.83L4 21.41c.39.39.9.59 1.41.59.51 0 1.02-.2 1.41-.59l7.78-7.78 2.81-2.81c.8-.78.8-2.07 0-2.86zM5.41 20L4 18.59l7.72-7.72 1.47 1.35L5.41 20z\"/>\n",
              "  </svg>\n",
              "      </button>\n",
              "      \n",
              "  <style>\n",
              "    .colab-df-container {\n",
              "      display:flex;\n",
              "      flex-wrap:wrap;\n",
              "      gap: 12px;\n",
              "    }\n",
              "\n",
              "    .colab-df-convert {\n",
              "      background-color: #E8F0FE;\n",
              "      border: none;\n",
              "      border-radius: 50%;\n",
              "      cursor: pointer;\n",
              "      display: none;\n",
              "      fill: #1967D2;\n",
              "      height: 32px;\n",
              "      padding: 0 0 0 0;\n",
              "      width: 32px;\n",
              "    }\n",
              "\n",
              "    .colab-df-convert:hover {\n",
              "      background-color: #E2EBFA;\n",
              "      box-shadow: 0px 1px 2px rgba(60, 64, 67, 0.3), 0px 1px 3px 1px rgba(60, 64, 67, 0.15);\n",
              "      fill: #174EA6;\n",
              "    }\n",
              "\n",
              "    [theme=dark] .colab-df-convert {\n",
              "      background-color: #3B4455;\n",
              "      fill: #D2E3FC;\n",
              "    }\n",
              "\n",
              "    [theme=dark] .colab-df-convert:hover {\n",
              "      background-color: #434B5C;\n",
              "      box-shadow: 0px 1px 3px 1px rgba(0, 0, 0, 0.15);\n",
              "      filter: drop-shadow(0px 1px 2px rgba(0, 0, 0, 0.3));\n",
              "      fill: #FFFFFF;\n",
              "    }\n",
              "  </style>\n",
              "\n",
              "      <script>\n",
              "        const buttonEl =\n",
              "          document.querySelector('#df-6eeb0931-04a3-4e17-8ebf-68a895793306 button.colab-df-convert');\n",
              "        buttonEl.style.display =\n",
              "          google.colab.kernel.accessAllowed ? 'block' : 'none';\n",
              "\n",
              "        async function convertToInteractive(key) {\n",
              "          const element = document.querySelector('#df-6eeb0931-04a3-4e17-8ebf-68a895793306');\n",
              "          const dataTable =\n",
              "            await google.colab.kernel.invokeFunction('convertToInteractive',\n",
              "                                                     [key], {});\n",
              "          if (!dataTable) return;\n",
              "\n",
              "          const docLinkHtml = 'Like what you see? Visit the ' +\n",
              "            '<a target=\"_blank\" href=https://colab.research.google.com/notebooks/data_table.ipynb>data table notebook</a>'\n",
              "            + ' to learn more about interactive tables.';\n",
              "          element.innerHTML = '';\n",
              "          dataTable['output_type'] = 'display_data';\n",
              "          await google.colab.output.renderOutput(dataTable, element);\n",
              "          const docLink = document.createElement('div');\n",
              "          docLink.innerHTML = docLinkHtml;\n",
              "          element.appendChild(docLink);\n",
              "        }\n",
              "      </script>\n",
              "    </div>\n",
              "  </div>\n",
              "  "
            ],
            "text/plain": [
              "  buying  maint doors persons lug_boot safety  class\n",
              "0  vhigh  vhigh     2       2    small    low  unacc\n",
              "1  vhigh  vhigh     2       2    small    med  unacc\n",
              "2  vhigh  vhigh     2       2    small   high  unacc\n",
              "3  vhigh  vhigh     2       2      med    low  unacc\n",
              "4  vhigh  vhigh     2       2      med    med  unacc"
            ]
          },
          "execution_count": 159,
          "metadata": {},
          "output_type": "execute_result"
        }
      ],
      "source": [
        "col_names = [\"buying\", \"maint\", \"doors\", \"persons\", \"lug_boot\", \"safety\", \"class\"]\n",
        "dataset = pd.read_csv(\"car.data\", names=col_names)\n",
        "dataset.head(5)"
      ]
    },
    {
      "cell_type": "code",
      "execution_count": 160,
      "metadata": {
        "colab": {
          "base_uri": "https://localhost:8080/"
        },
        "id": "_-kH2JuXm49F",
        "outputId": "85f2871e-c3c4-4e91-9ba7-36881a46beb5"
      },
      "outputs": [
        {
          "name": "stdout",
          "output_type": "stream",
          "text": [
            "['vhigh' 'high' 'med' 'low']\n",
            "['vhigh' 'high' 'med' 'low']\n",
            "['2' '3' '4' '5more']\n",
            "['2' '4' 'more']\n",
            "['small' 'med' 'big']\n",
            "['low' 'med' 'high']\n",
            "['unacc' 'acc' 'vgood' 'good']\n"
          ]
        }
      ],
      "source": [
        "# step 1: encode categorical data\n",
        "# get unique values for each column\n",
        "buying_values = dataset[\"buying\"].unique()\n",
        "maint_values = dataset[\"maint\"].unique()\n",
        "doors_values = dataset[\"doors\"].unique()\n",
        "persons_values = dataset[\"persons\"].unique()\n",
        "lug_boot_values = dataset[\"lug_boot\"].unique()\n",
        "safety_values = dataset[\"safety\"].unique()\n",
        "class_values = dataset[\"class\"].unique()\n",
        "print(buying_values)\n",
        "print(maint_values)\n",
        "print(doors_values)\n",
        "print(persons_values)\n",
        "print(lug_boot_values)\n",
        "print(safety_values)\n",
        "print(class_values)"
      ]
    },
    {
      "cell_type": "code",
      "execution_count": 161,
      "metadata": {
        "id": "g5GxZJZXTqhr"
      },
      "outputs": [],
      "source": [
        "# step 2: create a replace map for each column\n",
        "buying_replace_map = {buying_values[i]: i for i in range(len(buying_values))}\n",
        "maint_replace_map = {maint_values[i]: i for i in range(len(maint_values))}\n",
        "doors_replace_map = {doors_values[i]: i for i in range(len(doors_values))}\n",
        "persons_replace_map = {persons_values[i]: i for i in range(len(persons_values))}\n",
        "lug_boot_replace_map = {lug_boot_values[i]: i for i in range(len(lug_boot_values))}\n",
        "safety_replace_map = {safety_values[i]: i for i in range(len(safety_values))}\n",
        "class_replace_map = {class_values[i]: i for i in range(len(class_values))}"
      ]
    },
    {
      "cell_type": "code",
      "execution_count": 162,
      "metadata": {
        "id": "2isWjiZwZK4b"
      },
      "outputs": [],
      "source": [
        "# step 3: replace each column with the replace map\n",
        "dataset[\"buying\"] = dataset[\"buying\"].replace(buying_replace_map)\n",
        "dataset[\"maint\"] = dataset[\"maint\"].replace(maint_replace_map)\n",
        "dataset[\"doors\"] = dataset[\"doors\"].replace(doors_replace_map)\n",
        "dataset[\"persons\"] = dataset[\"persons\"].replace(persons_replace_map)\n",
        "dataset[\"lug_boot\"] = dataset[\"lug_boot\"].replace(lug_boot_replace_map)\n",
        "dataset[\"safety\"] = dataset[\"safety\"].replace(safety_replace_map)\n",
        "dataset[\"class\"] = dataset[\"class\"].replace(class_replace_map)"
      ]
    },
    {
      "cell_type": "code",
      "execution_count": 163,
      "metadata": {
        "colab": {
          "base_uri": "https://localhost:8080/"
        },
        "id": "ns56E2vGZMLx",
        "outputId": "38a0edf2-a213-48cd-bb23-98386b7c6d97"
      },
      "outputs": [
        {
          "name": "stdout",
          "output_type": "stream",
          "text": [
            "[0 1 2 3]\n",
            "[0 1 2 3]\n",
            "[0 1 2 3]\n",
            "[0 1 2]\n",
            "[0 1 2]\n",
            "[0 1 2]\n",
            "[0 1 2 3]\n"
          ]
        }
      ],
      "source": [
        "# # step 4: encode the dataset\n",
        "# ordinal_encoder = OrdinalEncoder()\n",
        "# dataset = ordinal_encoder.fit_transform(dataset)\n",
        "# dataset = pd.DataFrame(dataset)\n",
        "# dataset\n",
        "print(dataset[\"buying\"].unique())\n",
        "print(dataset[\"maint\"].unique())\n",
        "print(dataset[\"doors\"].unique())\n",
        "print(dataset[\"persons\"].unique())\n",
        "print(dataset[\"lug_boot\"].unique())\n",
        "print(dataset[\"safety\"].unique())\n",
        "print(dataset[\"class\"].unique())"
      ]
    },
    {
      "cell_type": "code",
      "execution_count": 164,
      "metadata": {
        "id": "CdxQIO-gZNQD"
      },
      "outputs": [],
      "source": [
        "# step 5: split the dataset into training and testing data\n",
        "X = dataset.drop([\"buying\", \"persons\"], axis=1)\n",
        "y = dataset[\"buying\"]\n",
        "# X = dataset.drop(columns=[0])\n",
        "# y = dataset.iloc[:, 0]\n",
        "X_train, X_test, y_train, y_test = train_test_split(X, y, test_size=0.3, random_state=0)"
      ]
    },
    {
      "cell_type": "code",
      "execution_count": 165,
      "metadata": {
        "colab": {
          "base_uri": "https://localhost:8080/"
        },
        "id": "apUZDx0NZOXJ",
        "outputId": "f2388ab9-8745-4d9d-ae2a-058c17020482"
      },
      "outputs": [
        {
          "data": {
            "text/plain": [
              "DecisionTreeClassifier(max_depth=3, min_samples_split=10)"
            ]
          },
          "execution_count": 165,
          "metadata": {},
          "output_type": "execute_result"
        }
      ],
      "source": [
        "# step 6: train the model using gini index\n",
        "model = DecisionTreeClassifier(criterion=\"gini\", max_depth=3, min_samples_split=10)\n",
        "model.fit(X_train, y_train)\n",
        "\n",
        "# step 6: train the model using entropy index\n",
        "model = DecisionTreeClassifier(criterion=\"entropy\", max_depth=3, min_samples_split=10)\n",
        "model.fit(X_train, y_train)"
      ]
    },
    {
      "cell_type": "code",
      "execution_count": 166,
      "metadata": {
        "id": "p7-GebWapT2a"
      },
      "outputs": [],
      "source": [
        "# step 7: predict the model\n",
        "y_pred = model.predict(X_test)"
      ]
    },
    {
      "cell_type": "code",
      "execution_count": 167,
      "metadata": {
        "colab": {
          "base_uri": "https://localhost:8080/"
        },
        "id": "eDt05t3wpVez",
        "outputId": "676584d9-0174-4527-9e55-ce9d593e6032"
      },
      "outputs": [
        {
          "name": "stdout",
          "output_type": "stream",
          "text": [
            "Accuracy: 0.3044315992292871\n"
          ]
        }
      ],
      "source": [
        "# step 8: evaluate the model\n",
        "print(\"Accuracy:\", metrics.accuracy_score(y_test, y_pred))"
      ]
    },
    {
      "cell_type": "code",
      "execution_count": 174,
      "metadata": {
        "colab": {
          "base_uri": "https://localhost:8080/"
        },
        "id": "IuWB6hampfTx",
        "outputId": "c0eaf5d7-0a01-4376-aff3-8b71181eb2e4"
      },
      "outputs": [
        {
          "name": "stdout",
          "output_type": "stream",
          "text": [
            "low\n"
          ]
        },
        {
          "name": "stderr",
          "output_type": "stream",
          "text": [
            "/usr/local/lib/python3.7/dist-packages/sklearn/base.py:451: UserWarning: X does not have valid feature names, but DecisionTreeClassifier was fitted with feature names\n",
            "  \"X does not have valid feature names, but\"\n"
          ]
        }
      ],
      "source": [
        "# use the replace map to convert the new data point to the same format as the dataset\n",
        "new_data = [\"high\", \"4\", \"big\", \"high\", \"good\"]\n",
        "new_data_encoded = [maint_replace_map[new_data[0]], doors_replace_map[new_data[1]], lug_boot_replace_map[new_data[2]], safety_replace_map[new_data[3]], class_replace_map[new_data[4]]]\n",
        "new_data_encoded = np.array(new_data_encoded)\n",
        "new_data_encoded = new_data_encoded.reshape(1, -1)\n",
        "new_data_encoded\n",
        "\n",
        "# predict the new data point\n",
        "new_data_pred = model.predict(new_data_encoded)\n",
        "new_data_pred = buying_values[new_data_pred[0]]\n",
        "print(new_data_pred)"
      ]
    }
  ],
  "metadata": {
    "colab": {
      "name": "Untitled17.ipynb",
      "provenance": []
    },
    "kernelspec": {
      "display_name": "Python 3",
      "name": "python3"
    },
    "language_info": {
      "name": "python"
    }
  },
  "nbformat": 4,
  "nbformat_minor": 0
}
